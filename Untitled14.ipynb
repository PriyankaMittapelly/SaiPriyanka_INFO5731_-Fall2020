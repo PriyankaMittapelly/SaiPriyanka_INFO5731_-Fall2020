{
  "nbformat": 4,
  "nbformat_minor": 0,
  "metadata": {
    "colab": {
      "name": "Untitled14.ipynb",
      "provenance": [],
      "authorship_tag": "ABX9TyOMmFDgC33xqxMoJZEYpumF",
      "include_colab_link": true
    },
    "kernelspec": {
      "name": "python3",
      "display_name": "Python 3"
    },
    "language_info": {
      "name": "python"
    }
  },
  "cells": [
    {
      "cell_type": "markdown",
      "metadata": {
        "id": "view-in-github",
        "colab_type": "text"
      },
      "source": [
        "<a href=\"https://colab.research.google.com/github/PriyankaMittapelly/SaiPriyanka_INFO5731_-Fall2020/blob/main/Untitled14.ipynb\" target=\"_parent\"><img src=\"https://colab.research.google.com/assets/colab-badge.svg\" alt=\"Open In Colab\"/></a>"
      ]
    },
    {
      "cell_type": "code",
      "source": [
        "def findMinHealth(power, armor):\n",
        "    n = len(power)\n",
        "    ans = 0\n",
        "    arm = True\n",
        "    for i in range(n):\n",
        "        if power[i] > armor and arm == True:\n",
        "            ans += power[i] - armor\n",
        "            arm = False\n",
        "        else:\n",
        "            ans += power[i]\n",
        "    if arm == True:\n",
        "        temp = max(power)\n",
        "        ans -= temp\n",
        "        arm = False\n",
        "    return ans + 1\n",
        "findMinHealth([1,2,6],4)"
      ],
      "metadata": {
        "colab": {
          "base_uri": "https://localhost:8080/"
        },
        "id": "B6lgTyrELIzR",
        "outputId": "bb7a0656-5057-40f8-d732-ee1cc80b53d5"
      },
      "execution_count": 3,
      "outputs": [
        {
          "output_type": "execute_result",
          "data": {
            "text/plain": [
              "6"
            ]
          },
          "metadata": {},
          "execution_count": 3
        }
      ]
    },
    {
      "cell_type": "code",
      "source": [
        "def min(list1, k):\n",
        "  list1.sort()\n",
        "  ret=0\n",
        "  pv=list1[0]\n",
        "  for i in range(len(list1)-1):\n",
        "    if list1[i+1] - pv > k:\n",
        "      ret+=1\n",
        "      pv=list1[i]\n",
        "  return ret+1"
      ],
      "metadata": {
        "id": "ljXVycvpLNCn"
      },
      "execution_count": 35,
      "outputs": []
    },
    {
      "cell_type": "code",
      "source": [
        "min([3,1,4,3,9],10)"
      ],
      "metadata": {
        "colab": {
          "base_uri": "https://localhost:8080/"
        },
        "id": "SjxOECW7f4Tp",
        "outputId": "29d199e8-e174-46d3-a6ab-0cf7a15d26a2"
      },
      "execution_count": 37,
      "outputs": [
        {
          "output_type": "execute_result",
          "data": {
            "text/plain": [
              "1"
            ]
          },
          "metadata": {},
          "execution_count": 37
        }
      ]
    },
    {
      "cell_type": "code",
      "source": [
        "for i in range(10):\n",
        "  print(i)"
      ],
      "metadata": {
        "colab": {
          "base_uri": "https://localhost:8080/"
        },
        "id": "h2zLiLHqkfvv",
        "outputId": "baf44c90-c998-4764-bd0d-bd1f0c10541a"
      },
      "execution_count": 10,
      "outputs": [
        {
          "output_type": "stream",
          "name": "stdout",
          "text": [
            "0\n",
            "1\n",
            "2\n",
            "3\n",
            "4\n",
            "5\n",
            "6\n",
            "7\n",
            "8\n",
            "9\n"
          ]
        }
      ]
    },
    {
      "cell_type": "code",
      "source": [
        ""
      ],
      "metadata": {
        "id": "YL1ca9JPgW05"
      },
      "execution_count": null,
      "outputs": []
    }
  ]
}